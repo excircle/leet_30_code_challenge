{
 "cells": [
  {
   "cell_type": "markdown",
   "metadata": {},
   "source": [
    "# Single_Number Python3 Solutions\n",
    "\n",
    "\n",
    "## Single Number Challenge\n",
    "\n",
    "Given an array with pairs of numbers, identify which integer does not have a coresponding counterpart.\n",
    "\n",
    "EXAMPLE:\n",
    "```\n",
    "Input: [3,3,2,2,1]\n",
    "Output: 1\n",
    "```\n",
    "\n",
    "Below are 4 solutions. The first solution is the answer I provided which passed the LeetCode test.\n",
    "\n",
    "## 1.) Original Solution\n",
    "\n",
    "For my personal solution, I created dictionary, with key values for each integer candidate, in a loop.\n",
    "I then proceeded to loop through the dictionary and return the key whose value == 1."
   ]
  },
  {
   "cell_type": "code",
   "execution_count": null,
   "metadata": {},
   "outputs": [],
   "source": [
    "from typing import List\n",
    "\n",
    "def singleNumber(n: List[int]) -> int:\n",
    "    d = {}\n",
    "    r = None\n",
    "    for v in n:\n",
    "        if v in d:\n",
    "            d[v] += 1\n",
    "        else:\n",
    "            d[v] = 1\n",
    "    for k, v in d.items():\n",
    "        if v == 1:\n",
    "            r = k\n",
    "    return r"
   ]
  },
  {
   "cell_type": "code",
   "execution_count": 2,
   "metadata": {},
   "outputs": [],
   "source": [
    "a = [4,1,2,1,2]\n",
    "b = [1,1,2,2,3,3,4,4,5,5,6,6,7,7,8,8,9,10,10]"
   ]
  },
  {
   "cell_type": "code",
   "execution_count": 3,
   "metadata": {},
   "outputs": [
    {
     "data": {
      "text/plain": [
       "4"
      ]
     },
     "execution_count": 3,
     "metadata": {},
     "output_type": "execute_result"
    }
   ],
   "source": [
    "singleNumber(a)"
   ]
  },
  {
   "cell_type": "code",
   "execution_count": 4,
   "metadata": {},
   "outputs": [
    {
     "data": {
      "text/plain": [
       "9"
      ]
     },
     "execution_count": 4,
     "metadata": {},
     "output_type": "execute_result"
    }
   ],
   "source": [
    "singleNumber(b)"
   ]
  },
  {
   "cell_type": "markdown",
   "metadata": {},
   "source": [
    "## Enchanced Solution\n",
    "\n",
    "LeetCode offerred a nearly identical solution which took advantage of `defaultdict`. This is a variation on a python dictionary that returns a default value for any index called, regardless of whether the index actually exists.\n",
    "\n",
    "The benefit of this method is that it does not require a step to confirm if the key containing the candidate integer actually exists.\n",
    "\n",
    "I have provided the solution below."
   ]
  },
  {
   "cell_type": "code",
   "execution_count": null,
   "metadata": {},
   "outputs": [],
   "source": [
    "from collections import defaultdict\n",
    "\n",
    "def singleNumber(nums: List[int]) -> int:\n",
    "    hash_table = defaultdict(int)\n",
    "    for i in nums:\n",
    "        hash_table[i] += 1\n",
    "    \n",
    "    for i in hash_table:\n",
    "        if hash_table[i] == 1:\n",
    "            return i"
   ]
  },
  {
   "cell_type": "markdown",
   "metadata": {},
   "source": [
    "## 2.) List Operation\n",
    "\n",
    "This is a solution provided by LeetCode.\n",
    "\n",
    "It offers a way of identifying the integer without a counterpart by using a list object as a \"holding\" area. Itegers are placed into the list for holding. The itegers remain in holding until it's counterpart integer is found, at which point in time, the candidate is evicted from holding, and a new candidate integer (possibly without a counterpart) is entered.\n",
    "\n",
    "By the end of the execution, only the candidate without a counterpart would remain in holding. At that time, the lonely integer is returned via a pop() method."
   ]
  },
  {
   "cell_type": "code",
   "execution_count": 1,
   "metadata": {},
   "outputs": [],
   "source": [
    "def singleNumber(nums):\n",
    "    no_duplicate_list = []\n",
    "    for i in nums:\n",
    "        if i not in no_duplicate_list:\n",
    "            no_duplicate_list.append(i)\n",
    "        else:\n",
    "            no_duplicate_list.remove(i)\n",
    "    return no_duplicate_list.pop()"
   ]
  },
  {
   "cell_type": "markdown",
   "metadata": {},
   "source": [
    "## 3.) Math Operation\n",
    "\n",
    "This solution <b>WAS GENIUS!</b>.\n",
    "\n",
    "Using the natural formation of sets, one could multiply the set by 2, then subtract the product from the sum of the list, and have the remainder equal the integer which does not have a counterpart.\n",
    "\n",
    "<b>BRILLIANT!</b> "
   ]
  },
  {
   "cell_type": "code",
   "execution_count": 2,
   "metadata": {},
   "outputs": [],
   "source": [
    "def singleNumber(self, nums):\n",
    "    return 2 * sum(set(nums)) - sum(nums)"
   ]
  },
  {
   "cell_type": "markdown",
   "metadata": {},
   "source": [
    "## 4.) Natural Solution Via Exponents\n",
    "\n",
    "Another brilliant solution via the natural beauty of math. By starting with 0 and raising that number to the power of the items in the list (sequentially), the exponential results will naturally identify which number has no counterpart.\n",
    "\n",
    "GENIUS!!"
   ]
  },
  {
   "cell_type": "code",
   "execution_count": null,
   "metadata": {},
   "outputs": [],
   "source": [
    "def singleNumber(nums):\n",
    "    a = 0\n",
    "    for i in nums:\n",
    "        a ^= i\n",
    "    return a"
   ]
  }
 ],
 "metadata": {
  "kernelspec": {
   "display_name": "Python 3",
   "language": "python",
   "name": "python3"
  },
  "language_info": {
   "codemirror_mode": {
    "name": "ipython",
    "version": 3
   },
   "file_extension": ".py",
   "mimetype": "text/x-python",
   "name": "python",
   "nbconvert_exporter": "python",
   "pygments_lexer": "ipython3",
   "version": "3.7.4"
  }
 },
 "nbformat": 4,
 "nbformat_minor": 2
}

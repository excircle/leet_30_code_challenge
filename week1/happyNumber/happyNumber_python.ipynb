{
 "cells": [
  {
   "cell_type": "markdown",
   "metadata": {},
   "source": [
    "# Happy Number Python3 Solutions\n",
    "\n",
    "## Happy Number Challenge\n",
    "\n",
    "Given a single integer, determine if the sum of it's digits squared, can ever equal 1.\n",
    "\n",
    "\n",
    "EXAMPLE:\n",
    "```\n",
    "Input: 19\n",
    "Logic: 19 -> [1, 9] -> (1^2)+(9^2)\n",
    "\n",
    "Explanation:\n",
    "(1^2) + (9^2) = 82\n",
    "(8^2) + (2^2) = 68\n",
    "(6^2) + (8^2) = 100\n",
    "(1^2) + (0^2) + (0**2) = 1\n",
    "\n",
    "Answer: 1\n",
    "```\n",
    "\n",
    "# 1.) Original Solution\n",
    "\n",
    "For my personal solution, I chose a brute force method that incurred a lot repeated work. I recognized that there was a pattern of numbers that were processed, but I was not able to figure out how these numbers could be used to employ a form of protection against repeated work.\n",
    "\n",
    "My solution is based on a variable called \"t\". This variable stands for tracker and serves as a method of limiting the number of iterations that would be used to determine if a given integer is \"happy\".\n",
    "\n",
    "To illustrate the flaw in this approach, I have set the variable \"t\" to 22. This number of iterations will be sufficient to expose the flaw and explain how we could take advantage of a natural occurrence within the numbers we check.\n",
    "\n",
    "Below, I have provided my function definition and execute the function with the values `19` and `20`.\n",
    "\n",
    "Notice how the processing of `20` yeilds the number `145` several times."
   ]
  },
  {
   "cell_type": "code",
   "execution_count": 5,
   "metadata": {},
   "outputs": [],
   "source": [
    "def isHappy(n: int) -> bool:\n",
    "    t = 0\n",
    "    while t != 22:\n",
    "        e = sum([int(i)**2 for i in str(n)])\n",
    "        print(e)\n",
    "        if e == 1:\n",
    "            return True\n",
    "        t += 1\n",
    "        n = e\n",
    "    return False"
   ]
  },
  {
   "cell_type": "code",
   "execution_count": 3,
   "metadata": {},
   "outputs": [
    {
     "name": "stdout",
     "output_type": "stream",
     "text": [
      "82\n",
      "68\n",
      "100\n",
      "1\n"
     ]
    },
    {
     "data": {
      "text/plain": [
       "True"
      ]
     },
     "execution_count": 3,
     "metadata": {},
     "output_type": "execute_result"
    }
   ],
   "source": [
    "isHappy(19)"
   ]
  },
  {
   "cell_type": "code",
   "execution_count": 4,
   "metadata": {},
   "outputs": [
    {
     "name": "stdout",
     "output_type": "stream",
     "text": [
      "4\n",
      "16\n",
      "37\n",
      "58\n",
      "89\n",
      "145\n",
      "42\n",
      "20\n",
      "4\n",
      "16\n",
      "37\n",
      "58\n",
      "89\n",
      "145\n",
      "42\n",
      "20\n",
      "4\n",
      "16\n",
      "37\n",
      "58\n",
      "89\n",
      "145\n"
     ]
    },
    {
     "data": {
      "text/plain": [
       "False"
      ]
     },
     "execution_count": 4,
     "metadata": {},
     "output_type": "execute_result"
    }
   ],
   "source": [
    "isHappy(20)"
   ]
  },
  {
   "cell_type": "markdown",
   "metadata": {},
   "source": [
    "If we had a algorithm in place to identify repeated occurrences of numbers, we could terminate the processing of an integer much earlier than my current solution.\n",
    "\n",
    "LeetCode provided a very elegant solution which does utilize an algorithm to find and halt on repeated occurrences of processed numbers.\n",
    "\n",
    "## 2.) Leet Detect Cycles Solution"
   ]
  },
  {
   "cell_type": "code",
   "execution_count": 11,
   "metadata": {},
   "outputs": [],
   "source": [
    "def isHappyLeet(n: int) -> bool:\n",
    "\n",
    "    def get_next(n):\n",
    "        total_sum = 0\n",
    "        while n > 0:\n",
    "            n, digit = divmod(n, 10)\n",
    "            total_sum += digit ** 2\n",
    "        return total_sum\n",
    "\n",
    "    seen = set()\n",
    "    while n != 1 and n not in seen:\n",
    "        seen.add(n)\n",
    "        print(n)\n",
    "        n = get_next(n)\n",
    "    return n == 1"
   ]
  },
  {
   "cell_type": "code",
   "execution_count": 12,
   "metadata": {},
   "outputs": [
    {
     "name": "stdout",
     "output_type": "stream",
     "text": [
      "19\n",
      "82\n",
      "68\n",
      "100\n"
     ]
    },
    {
     "data": {
      "text/plain": [
       "True"
      ]
     },
     "execution_count": 12,
     "metadata": {},
     "output_type": "execute_result"
    }
   ],
   "source": [
    "isHappyLeet(19)"
   ]
  },
  {
   "cell_type": "code",
   "execution_count": 13,
   "metadata": {},
   "outputs": [
    {
     "name": "stdout",
     "output_type": "stream",
     "text": [
      "20\n",
      "4\n",
      "16\n",
      "37\n",
      "58\n",
      "89\n",
      "145\n",
      "42\n"
     ]
    },
    {
     "data": {
      "text/plain": [
       "False"
      ]
     },
     "execution_count": 13,
     "metadata": {},
     "output_type": "execute_result"
    }
   ],
   "source": [
    "isHappyLeet(20) #terminates before hitting 20 again"
   ]
  },
  {
   "cell_type": "markdown",
   "metadata": {},
   "source": [
    "## Conclusion\n",
    "\n",
    "This exercise is meant to help you look for an establish patterns as a method of control.\n",
    "\n",
    "In this problem, recurring numbers serve as our pattern.\n",
    "Halting on the detection of the pattern serves as our control."
   ]
  }
 ],
 "metadata": {
  "kernelspec": {
   "display_name": "Python 3",
   "language": "python",
   "name": "python3"
  },
  "language_info": {
   "codemirror_mode": {
    "name": "ipython",
    "version": 3
   },
   "file_extension": ".py",
   "mimetype": "text/x-python",
   "name": "python",
   "nbconvert_exporter": "python",
   "pygments_lexer": "ipython3",
   "version": "3.7.4"
  }
 },
 "nbformat": 4,
 "nbformat_minor": 2
}
